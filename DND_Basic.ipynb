{
 "cells": [
  {
   "cell_type": "code",
   "execution_count": 19,
   "metadata": {},
   "outputs": [
    {
     "name": "stdout",
     "output_type": "stream",
     "text": [
      "Choose your country (by entering a number between 1 and 4): 7\n",
      "Please select a valid option\n",
      "Choose your country (by entering a number between 1 and 4): 7\n",
      "Please select a valid option\n",
      "Choose your country (by entering a number between 1 and 4): 3\n",
      "Welcome to  Kroltov !\n"
     ]
    }
   ],
   "source": [
    "# DND Style Derek Daemon Game\n",
    "# Defining a few starter variables\n",
    "# Use dictionary\n",
    "\n",
    "country_selected = False     # Notice the first letter in False is in capitals !\n",
    "country_options = {\n",
    "    1: \"Toccedo\",\n",
    "    2: \"Somavare\",\n",
    "    3: \"Kroltov\",\n",
    "    4: \"Anterran\"\n",
    "    }\n",
    "\n",
    "while (country_selected == False):\n",
    "    country_select = int(input(\"Choose your country (by entering a number between 1 and 4): \"))\n",
    "    if country_select > 0 and country_select < 5:\n",
    "        print('Welcome to ',country_options[country_select],'!')\n",
    "        country_selected = True\n",
    "        break\n",
    "    else: print('Please select a valid option')\n",
    "    continue"
   ]
  },
  {
   "cell_type": "code",
   "execution_count": 22,
   "metadata": {},
   "outputs": [
    {
     "name": "stdout",
     "output_type": "stream",
     "text": [
      "What would you like to be called?Aaron\n",
      "Hi Aaron !\n"
     ]
    }
   ],
   "source": [
    "player_name = input('What would you like to be called?')\n",
    "print('Hi',player_name,'!')"
   ]
  },
  {
   "cell_type": "code",
   "execution_count": null,
   "metadata": {},
   "outputs": [],
   "source": []
  }
 ],
 "metadata": {
  "kernelspec": {
   "display_name": "Python 3",
   "language": "python",
   "name": "python3"
  },
  "language_info": {
   "codemirror_mode": {
    "name": "ipython",
    "version": 3
   },
   "file_extension": ".py",
   "mimetype": "text/x-python",
   "name": "python",
   "nbconvert_exporter": "python",
   "pygments_lexer": "ipython3",
   "version": "3.7.4"
  }
 },
 "nbformat": 4,
 "nbformat_minor": 2
}
